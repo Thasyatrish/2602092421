{
  "nbformat": 4,
  "nbformat_minor": 0,
  "metadata": {
    "colab": {
      "provenance": [],
      "authorship_tag": "ABX9TyMItx++zG410Tpy8PphkOeR",
      "include_colab_link": true
    },
    "kernelspec": {
      "name": "python3",
      "display_name": "Python 3"
    },
    "language_info": {
      "name": "python"
    }
  },
  "cells": [
    {
      "cell_type": "markdown",
      "metadata": {
        "id": "view-in-github",
        "colab_type": "text"
      },
      "source": [
        "<a href=\"https://colab.research.google.com/github/Thasyatrish/2602092421/blob/main/s2_sc.ipynb\" target=\"_parent\"><img src=\"https://colab.research.google.com/assets/colab-badge.svg\" alt=\"Open In Colab\"/></a>"
      ]
    },
    {
      "cell_type": "code",
      "execution_count": null,
      "metadata": {
        "colab": {
          "base_uri": "https://localhost:8080/"
        },
        "id": "yXvQhQiWRLun",
        "outputId": "e2501a62-8baf-4c2e-d19e-a2cefce14ece"
      },
      "outputs": [
        {
          "output_type": "stream",
          "name": "stdout",
          "text": [
            "matrix id diagonally dominant\n"
          ]
        }
      ],
      "source": [
        "import numpy as np\n",
        "a = [[8,3,-3],[-2,-8,5], [3,5,10]]\n",
        "diag= np.diag(np.abs(a))\n",
        "off_diag = np.sum(np.abs(a), axis=1) - diag\n",
        "\n",
        "if np.all (diag>off_diag):\n",
        "  print('matrix id diagonally dominant')\n",
        "else :\n",
        "      print('NOT diagonally dominant')"
      ]
    },
    {
      "cell_type": "code",
      "source": [
        "x1=0\n",
        "x2=0\n",
        "x3=0\n",
        "epsilon = 0.01\n",
        "converged = False \n",
        "\n",
        "x_old = np.array([x1,x2,x3])"
      ],
      "metadata": {
        "id": "4eUAl2-ATXh2"
      },
      "execution_count": null,
      "outputs": []
    },
    {
      "cell_type": "code",
      "source": [
        "print ('Iteration results')\n",
        "print (' k, x1,x1,x3')\n",
        "for k in range (1,50):\n",
        "  x1= (14-3*x2+3*3)/8\n",
        "  x2= (5+2*x1-5*x3)/(-8)\n",
        "  x3= (-8-3*x1-5*x2)/(10)\n",
        "  x= np.array ([x1,x2,x3])\n",
        "\n",
        "  dx= np.sqrt(np.dot(x-x_old, x-x_old))\n",
        "\n",
        "  print (\"%d, %.4f, %.4f, %.4f \" %(k,x1,x2,x3))\n",
        "  if dx <epsilon :\n",
        "      converged = True \n",
        "      print ('Converged!')\n",
        "      break \n",
        "\n",
        "  x_old =x\n",
        "\n",
        "  if not converged:\n",
        "    print ('Not converge, increase the # of interatioens')"
      ],
      "metadata": {
        "colab": {
          "base_uri": "https://localhost:8080/"
        },
        "id": "svl_IIv0Tcc8",
        "outputId": "55bd21b1-a56a-420b-ef4a-076898ce38d3"
      },
      "execution_count": null,
      "outputs": [
        {
          "output_type": "stream",
          "name": "stdout",
          "text": [
            "Iteration results\n",
            " k, x1,x1,x3\n",
            "1, 3.6532, -2.0747, -0.8586 \n",
            "Converged!\n"
          ]
        }
      ]
    },
    {
      "cell_type": "code",
      "source": [],
      "metadata": {
        "id": "ppMhsKnMXFm8"
      },
      "execution_count": null,
      "outputs": []
    }
  ]
}